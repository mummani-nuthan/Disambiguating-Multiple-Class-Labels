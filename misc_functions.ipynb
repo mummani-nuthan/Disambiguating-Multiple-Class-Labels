{
 "cells": [
  {
   "cell_type": "markdown",
   "id": "2a4c04d8-509c-4a8e-a044-e8171f277e27",
   "metadata": {},
   "source": [
    "# apply mask on image"
   ]
  },
  {
   "cell_type": "code",
   "execution_count": null,
   "id": "1df54b67-b49d-4093-b336-e64079ec690c",
   "metadata": {},
   "outputs": [],
   "source": [
    "\n",
    "def mask_on_image(im , mask, masking_type):\n",
    "    new_pic=[]\n",
    "    new_im=np.transpose(im, (2, 0, 1))\n",
    "    if masking_type=='normal/':\n",
    "        for i in new_im:\n",
    "            new_pic.append(i*(~mask))\n",
    "    else:\n",
    "        for i in new_im:\n",
    "            new_pic.append(i*(mask))\n",
    "    new_im=np.transpose(new_pic, (1,2,0))\n",
    "    return new_im"
   ]
  },
  {
   "cell_type": "code",
   "execution_count": null,
   "id": "bc3ce190-5ba7-4d34-a32a-04a77bb340c7",
   "metadata": {},
   "outputs": [],
   "source": [
    "def show_redacted_image(segmentwise_attributions,prediction_id,redaction1_percentile):\n",
    "    masking_type='normal/'\n",
    "    mask = segmentwise_attributions[prediction_id] > np.percentile(segmentwise_attributions[prediction_id], 100-redaction1_percentile)\n",
    "    new_im1=mask_on_image(image , mask, masking_type)\n",
    "    return new_im1,mask\n",
    "    "
   ]
  },
  {
   "cell_type": "code",
   "execution_count": null,
   "id": "2e1ac27e-3d76-4b2f-81af-bc5b9c51f71a",
   "metadata": {},
   "outputs": [],
   "source": [
    "#generate mask using list of all mask ids\n",
    "def get_mask(mask_id_intersection,new_segs):\n",
    "    \n",
    "    numbered_masks = {ind: mask for ind, mask in enumerate(new_segs)}\n",
    "    oldmask=np.zeros(numbered_masks[0].shape, dtype=bool)\n",
    "    for i in mask_id_intersection:\n",
    "        mask=np.logical_or(numbered_masks[i],oldmask)\n",
    "        # plt.imshow(mask)\n",
    "        # plt.show()\n",
    "        oldmask=mask\n",
    "    return mask"
   ]
  },
  {
   "cell_type": "code",
   "execution_count": 3,
   "id": "4855512f-c135-418c-8aa4-50557bf80c59",
   "metadata": {},
   "outputs": [],
   "source": [
    "#generate mask using list of all mask ids\n",
    "def get_mask_based_on_disjint_segs(new_segs,ranked_pred_list):\n",
    "    numbered_masks = {ind: mask for ind, mask in enumerate(new_segs)}\n",
    "    oldmask=np.zeros(numbered_masks[0].shape, dtype=bool)\n",
    "    for i in ranked_pred_list:\n",
    "        if i['required_for_pred']==True:\n",
    "            \n",
    "            mask=np.logical_or(numbered_masks[i['mask_id']],oldmask)\n",
    "            # plt.imshow(mask)\n",
    "            # plt.show()\n",
    "            oldmask=mask\n",
    "    return mask"
   ]
  },
  {
   "cell_type": "code",
   "execution_count": 8,
   "id": "fb98c545-8efe-4cc2-9cb8-54dca7917a0a",
   "metadata": {},
   "outputs": [],
   "source": [
    "#generate mask using list of all mask ids\n",
    "def get_mask_based_on_disjint_segs_for_red_perc(new_segs,ranked_pred_list,redaction_percentile):\n",
    "    numbered_masks = {ind: mask for ind, mask in enumerate(new_segs)}\n",
    "    oldmask=np.zeros(numbered_masks[0].shape, dtype=bool)\n",
    "    list_of_segs=[]\n",
    "    redact_segments_for_this=[True,False]\n",
    "    k=0\n",
    "    for x in redact_segments_for_this:\n",
    "        for i in ranked_pred_list:\n",
    "            if i['required_for_pred']==x:\n",
    "                list_of_segs.append(i['mask_id'])\n",
    "                mask=np.logical_or(numbered_masks[i['mask_id']],oldmask)\n",
    "                oldmask=mask\n",
    "                if k+1==redaction_percentile:\n",
    "                    return mask,list_of_segs\n",
    "                k=k+1\n",
    "    \n",
    "    return mask,list_of_segs"
   ]
  },
  {
   "cell_type": "code",
   "execution_count": null,
   "id": "d376fbc0-4ea3-4592-9d12-8e8bfd38e561",
   "metadata": {},
   "outputs": [],
   "source": []
  }
 ],
 "metadata": {
  "kernelspec": {
   "display_name": "Python 3 (ipykernel)",
   "language": "python",
   "name": "python3"
  },
  "language_info": {
   "codemirror_mode": {
    "name": "ipython",
    "version": 3
   },
   "file_extension": ".py",
   "mimetype": "text/x-python",
   "name": "python",
   "nbconvert_exporter": "python",
   "pygments_lexer": "ipython3",
   "version": "3.10.9"
  }
 },
 "nbformat": 4,
 "nbformat_minor": 5
}
