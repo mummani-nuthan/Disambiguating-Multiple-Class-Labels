{
 "cells": [
  {
   "cell_type": "markdown",
   "id": "a48a8d77-8684-4c25-9935-1506be78bdd9",
   "metadata": {},
   "source": [
    "# segment anything model"
   ]
  },
  {
   "cell_type": "code",
   "execution_count": null,
   "id": "b1e46958-f77c-498c-80db-13b459d8f01c",
   "metadata": {},
   "outputs": [],
   "source": [
    "\n",
    "from segment_anything import sam_model_registry, SamAutomaticMaskGenerator, SamPredictor\n",
    "\n",
    "sam_checkpoint = \"sam_vit_h_4b8939.pth\"\n",
    "model_type = \"vit_h\"\n",
    "\n",
    "# device = \"mps\"\n",
    "\n",
    "sam = sam_model_registry[model_type](checkpoint=sam_checkpoint)\n",
    "# sam.to(device=device)\n",
    "\n",
    "# mask_generator = SamAutomaticMaskGenerator(sam)\n",
    "mask_generator_2 = SamAutomaticMaskGenerator(\n",
    "    model=sam,\n",
    "    points_per_side=32,\n",
    "    pred_iou_thresh=0.86,\n",
    "    stability_score_thresh=0.92,\n",
    "    crop_n_layers=1,\n",
    "    crop_n_points_downscale_factor=2,\n",
    "    min_mask_region_area=100,  # Requires open-cv to run post-processing\n",
    ")\n",
    "\n",
    "def seg_any(image):\n",
    "    masks_2 = mask_generator_2.generate(image)\n",
    "    masks_new=[i['segmentation'] for i in masks_2]\n",
    "    return masks_new"
   ]
  },
  {
   "cell_type": "markdown",
   "id": "0a4292d1-bd47-4626-a8a5-06a051dd3204",
   "metadata": {},
   "source": [
    "# segmenting"
   ]
  },
  {
   "cell_type": "code",
   "execution_count": null,
   "id": "56eeac9a-c4f8-4a60-acb0-a08359bb5f3a",
   "metadata": {},
   "outputs": [],
   "source": [
    "def generate_segments(image,pth,redo=False):\n",
    "    if os.path.exists(pth+'_segs'+'.pkl') and redo==False :\n",
    "        with open(pth+'_segs'+'.pkl', 'rb') as file:\n",
    "            segs=pickle.load(file)\n",
    "        print('loaded segments from file')\n",
    "        return segs\n",
    "\n",
    "    else:\n",
    "        print('started segmentation')\n",
    "        start_time = time.time()\n",
    "        segs=seg_any(image)\n",
    "        # segs=_get_segments_felzenszwalb(im,min_size=50) #change here if there is a change in shape\n",
    "        #segs=_get_segments_felzenszwalb(im,scale_list=[10],min_size=10) #change here if there is a change in shape\n",
    "        # segs=saliency.xrai._get_segments_felzenszwalb(im,scale_list=[10],min_size=10) #change here if there is a change in shape\n",
    "        # segs=get_masks()\n",
    "        end_time = time.time()\n",
    "        print('time taken by segmentation : '+str(end_time-start_time)+' sec')\n",
    "        print('completed segmentation')\n",
    "        with open(pth+'_segs'+'.pkl', 'wb') as file:\n",
    "            pickle.dump(segs, file)\n",
    "            file.close()\n",
    "\n",
    "        return segs\n",
    "\n",
    "\n",
    "def make_segs_disjoint(segs):\n",
    "    x=segs[0]*1\n",
    "    for i in range(1,len(segs)):\n",
    "        x=x+(segs[i]*(1.01**i))\n",
    "    new_segs=[]\n",
    "    for k in np.unique(x):\n",
    "        new_segs.append(x==k)\n",
    "    return new_segs\n",
    "\n"
   ]
  },
  {
   "cell_type": "code",
   "execution_count": null,
   "id": "95ee6f2b-1a1c-4349-a2be-8599b368e1c1",
   "metadata": {},
   "outputs": [],
   "source": []
  }
 ],
 "metadata": {
  "kernelspec": {
   "display_name": "Python 3 (ipykernel)",
   "language": "python",
   "name": "python3"
  },
  "language_info": {
   "codemirror_mode": {
    "name": "ipython",
    "version": 3
   },
   "file_extension": ".py",
   "mimetype": "text/x-python",
   "name": "python",
   "nbconvert_exporter": "python",
   "pygments_lexer": "ipython3",
   "version": "3.10.9"
  }
 },
 "nbformat": 4,
 "nbformat_minor": 5
}
