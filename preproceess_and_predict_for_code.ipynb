{
 "cells": [
  {
   "cell_type": "markdown",
   "id": "6ee31c41-5dd4-4bfe-ae90-f5fe59ab404f",
   "metadata": {},
   "source": [
    "# Preprocess and predict Image with respect to model"
   ]
  },
  {
   "cell_type": "code",
   "execution_count": null,
   "id": "b7a83707-81f8-402c-a04a-cd56869527da",
   "metadata": {},
   "outputs": [],
   "source": [
    "def PreprocessImage(model_in_use,im):\n",
    "    if model_in_use=='VGG16':\n",
    "        im=tf.keras.applications.vgg16.preprocess_input(im)\n",
    "        return im\n",
    "    if model_in_use=='InceptionV3':\n",
    "        im=tf.keras.applications.inception_v3.preprocess_input(im)\n",
    "        return im\n",
    "    if model_in_use=='ResNet50':\n",
    "        im=tf.keras.applications.resnet50.preprocess_input(im)\n",
    "        return im\n",
    "\n",
    "def predict_img(model_in_use,im,print_data=True):\n",
    "    model_in_use=model_in_use\n",
    "    predictions = model_in_use(np.array([im]))\n",
    "    prediction_class = np.argmax(predictions[0])\n",
    "    # call_model_args = {class_idx_str: prediction_class}\n",
    "    top10list=np.flip(np.array(predictions[0]).argsort())[:10]\n",
    "    \n",
    "    if print_data == True:\n",
    "        print(\"Prediction class: \" + str(prediction_class))\n",
    "    decoded_predictions = tf.keras.applications.vgg16.decode_predictions(np.array(predictions), top=1000)[0]  # Top 5 predictions\n",
    "    if print_data == True:\n",
    "        for i, (imagenet_id, label, score) in enumerate(decoded_predictions):\n",
    "            if i>=20:\n",
    "                break\n",
    "            print(f\"{i + 1}:{imagenet_id} {label} ({score:.10f})\")\n",
    "    \n",
    "    id_to_name=[0 for xyz in range(1000)]\n",
    "    top1000list=np.flip(np.array(predictions[0]).argsort())\n",
    "    for xyz in range(1000):\n",
    "        id_to_name[top1000list[xyz]]=decoded_predictions[xyz][1]\n",
    "    return(predictions,decoded_predictions,top10list,top1000list,id_to_name)"
   ]
  }
 ],
 "metadata": {
  "kernelspec": {
   "display_name": "Python 3 (ipykernel)",
   "language": "python",
   "name": "python3"
  },
  "language_info": {
   "codemirror_mode": {
    "name": "ipython",
    "version": 3
   },
   "file_extension": ".py",
   "mimetype": "text/x-python",
   "name": "python",
   "nbconvert_exporter": "python",
   "pygments_lexer": "ipython3",
   "version": "3.10.9"
  }
 },
 "nbformat": 4,
 "nbformat_minor": 5
}
