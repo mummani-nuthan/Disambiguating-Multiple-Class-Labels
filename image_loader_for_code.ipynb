{
 "cells": [
  {
   "cell_type": "markdown",
   "id": "ab5bb200-b7f3-4f5b-9435-5ab2ad95f33c",
   "metadata": {},
   "source": [
    "# Image Loader"
   ]
  },
  {
   "cell_type": "code",
   "execution_count": null,
   "id": "8a35f45f-2752-4f89-9584-0b384e0194d7",
   "metadata": {},
   "outputs": [],
   "source": [
    "def input_size(model_to_use):\n",
    "    if model_to_use=='VGG16' or model_to_use=='ResNet50':\n",
    "        return 224,224\n",
    "    if model_to_use=='InceptionV3':\n",
    "        return 299,299\n",
    "    \n",
    "    \n",
    "def image_load(model_to_use,file_path):\n",
    "    print('*******************************************************************')\n",
    "    fig_name=file_path.split('/')[-1]\n",
    "    print(fig_name)\n",
    "    \n",
    "    image = PIL.Image.open(file_path)\n",
    "    # image = image.resize((224,224))\n",
    "    target_width, target_height = input_size(model_to_use)\n",
    "    image = resize_with_pad(image, target_width, target_height, padding_color=(0, 0, 0))\n",
    "    image=np.asarray(image)\n",
    "\n",
    "    # image = tf.io.read_file(file_path)\n",
    "    # image = tf.io.decode_jpeg(image, channels=3)\n",
    "    # image = tf.image.resize_with_pad(image, target_height=224, target_width=224)\n",
    "    # image=np.array(image)\n",
    "    \n",
    "    return (fig_name,image)\n",
    "\n",
    "\n",
    "def resize_with_pad(image, target_width, target_height, padding_color=(0, 0, 0)):\n",
    "    # Calculate the new size preserving the aspect ratio\n",
    "    original_width, original_height = image.size\n",
    "    aspect_ratio = original_width / original_height\n",
    "    \n",
    "    if target_width / target_height > aspect_ratio:\n",
    "        # Width is the constraining dimension\n",
    "        new_height = target_height\n",
    "        new_width = int(aspect_ratio * new_height)\n",
    "    else:\n",
    "        # Height is the constraining dimension\n",
    "        new_width = target_width\n",
    "        new_height = int(new_width / aspect_ratio)\n",
    "    \n",
    "    # Resize the image to the new size\n",
    "    resized_image = image.resize((new_width, new_height), PIL.Image.BILINEAR)\n",
    "    \n",
    "    # Create a new image with the target size and the padding color\n",
    "    new_image = PIL.Image.new(\"RGB\", (target_width, target_height), padding_color)\n",
    "    \n",
    "    # Calculate the position to paste the resized image onto the new image\n",
    "    paste_position = (\n",
    "        (target_width - new_width) // 2,\n",
    "        (target_height - new_height) // 2\n",
    "    )\n",
    "    \n",
    "    # Paste the resized image onto the new image\n",
    "    new_image.paste(resized_image, paste_position)\n",
    "    \n",
    "    return new_image\n",
    "\n",
    "\n"
   ]
  },
  {
   "cell_type": "code",
   "execution_count": 1,
   "id": "e98014d5-77f6-42e8-976c-a5889f67ee74",
   "metadata": {},
   "outputs": [],
   "source": [
    "def ShowImage(im, title='', ax=None):\n",
    "  if ax is None:\n",
    "    plt.figure()\n",
    "  plt.axis('off')\n",
    "  plt.imshow(im)\n",
    "  # plt.title(title)\n",
    "  plt.show()"
   ]
  },
  {
   "cell_type": "code",
   "execution_count": null,
   "id": "80069468-61a1-41bd-be1f-7bfd09dc3e7d",
   "metadata": {},
   "outputs": [],
   "source": []
  }
 ],
 "metadata": {
  "kernelspec": {
   "display_name": "Python 3 (ipykernel)",
   "language": "python",
   "name": "python3"
  },
  "language_info": {
   "codemirror_mode": {
    "name": "ipython",
    "version": 3
   },
   "file_extension": ".py",
   "mimetype": "text/x-python",
   "name": "python",
   "nbconvert_exporter": "python",
   "pygments_lexer": "ipython3",
   "version": "3.10.9"
  }
 },
 "nbformat": 4,
 "nbformat_minor": 5
}
