{
 "cells": [
  {
   "cell_type": "markdown",
   "id": "c88d0205-0658-4131-af25-5be949f6b868",
   "metadata": {},
   "source": [
    "# Load models"
   ]
  },
  {
   "cell_type": "code",
   "execution_count": null,
   "id": "89b1c52e-b9d8-46be-bd7e-a8c5beefd273",
   "metadata": {},
   "outputs": [],
   "source": [
    "# def load_model(model_name):\n",
    "#     if model_name=='VGG16':\n",
    "#         m2 = tf.keras.applications.vgg16.VGG16(weights='imagenet', include_top=True)\n",
    "#         model2 = tf.keras.models.Model([m2.inputs], m2.output)\n",
    "#         return model2\n",
    "#     if model_name=='InceptionV3':\n",
    "#         m2 = tf.keras.applications.inception_v3.InceptionV3(weights='imagenet', include_top=True)\n",
    "#         model2 = tf.keras.models.Model([m2.inputs], m2.output)\n",
    "#         return model2\n",
    "#     if model_name=='ResNet50':\n",
    "#         m2 = tf.keras.applications.resnet50.ResNet50(include_top=True,weights='imagenet')\n",
    "#         model2 = tf.keras.models.Model([m2.inputs], m2.output)\n",
    "#         return model2\n",
    "\n",
    "\n",
    "# # model_to_use='ResNet50'\n",
    "# # model_in_use=load_model(model_to_use)\n",
    "# # model_in_use.summary()"
   ]
  },
  {
   "cell_type": "code",
   "execution_count": null,
   "id": "e25f5ab6-c5ae-426a-826f-d20e4eb55a0d",
   "metadata": {},
   "outputs": [],
   "source": [
    "def load_pre_softmax_model(m2):\n",
    "    r=m2.layers[-2].output\n",
    "    # new_m=tf.keras.backend.function([m2.inputs],r)\n",
    "    # new_m=tf.keras.models.Model([m2.inputs],r)\n",
    "    new_m = tf.keras.layers.Dense(units=m2.layers[-1].units)(r)\n",
    "    new_m=tf.keras.models.Model([m2.inputs],new_m)\n",
    "    new_m.layers[-1].set_weights(m2.layers[-1].get_weights())\n",
    "    # new_m.summary()\n",
    "    return new_m"
   ]
  },
  {
   "cell_type": "code",
   "execution_count": null,
   "id": "5f1df768-d4fd-4686-8476-38c400e78f55",
   "metadata": {},
   "outputs": [],
   "source": [
    "def load_model(model_name):\n",
    "    if model_name=='VGG16':\n",
    "        m2 = tf.keras.applications.vgg16.VGG16(weights='imagenet', include_top=True)\n",
    "        # print(m2.layers[-1].activation)\n",
    "        # m2.summary()\n",
    "        model2 = tf.keras.models.Model([m2.inputs], m2.output)\n",
    "        model3=load_pre_softmax_model(m2)\n",
    "        return model2,model3\n",
    "    if model_name=='InceptionV3':\n",
    "        m2 = tf.keras.applications.inception_v3.InceptionV3(weights='imagenet', include_top=True)\n",
    "        model2 = tf.keras.models.Model([m2.inputs], m2.output)\n",
    "        model3=load_pre_softmax_model(m2)\n",
    "        return model2,model3\n",
    "    if model_name=='ResNet50':\n",
    "        m2 = tf.keras.applications.resnet50.ResNet50(include_top=True,weights='imagenet')\n",
    "        model2 = tf.keras.models.Model([m2.inputs], m2.output)\n",
    "        model3=load_pre_softmax_model(m2)\n",
    "        return model2,model3\n",
    "\n",
    "\n",
    "# model_to_use='ResNet50'\n",
    "# model_in_use=load_model(model_to_use)\n",
    "# model_in_use.summary()"
   ]
  },
  {
   "cell_type": "code",
   "execution_count": null,
   "id": "f20d7c98-d5cc-47a7-a28b-17c1ecc6c30d",
   "metadata": {},
   "outputs": [],
   "source": [
    "# m2 = tf.keras.applications.vgg16.VGG16(weights='imagenet', include_top=True)\n",
    "# model2 = tf.keras.models.Model([m2.inputs], m2.output)"
   ]
  },
  {
   "cell_type": "code",
   "execution_count": null,
   "id": "d260fcb0-fd77-4be0-b6a3-c23828089819",
   "metadata": {},
   "outputs": [],
   "source": [
    "# model = tf.keras.Sequential([\n",
    "#     hub.KerasLayer(\n",
    "#         name='inception_v1',\n",
    "#         handle='https://tfhub.dev/google/imagenet/inception_v1/classification/4',\n",
    "#         trainable=False),\n",
    "# ])\n",
    "# model.build([None, 224, 224, 3])\n",
    "# model.summary()\n",
    "\n",
    "\n",
    "# def load_imagenet_labels(file_path):\n",
    "#   labels_file = tf.keras.utils.get_file('ImageNetLabels.txt', file_path)\n",
    "#   with open(labels_file) as reader:\n",
    "#     f = reader.read()\n",
    "#     labels = f.splitlines()\n",
    "#   return np.array(labels)\n",
    "# imagenet_labels = load_imagenet_labels('https://storage.googleapis.com/download.tensorflow.org/data/ImageNetLabels.txt')\n",
    "\n",
    "\n",
    "# def top_k_predictions(img, k=5):\n",
    "#   image_batch = tf.expand_dims(img, 0)\n",
    "#   predictions = model(image_batch)\n",
    "#   probs = tf.nn.softmax(predictions, axis=-1)\n",
    "#   top_probs, top_idxs = tf.math.top_k(input=probs, k=k)\n",
    "#   top_labels = imagenet_labels[tuple(top_idxs)]\n",
    "#   return top_labels, top_probs[0]\n",
    "\n",
    "\n",
    "# pred_label, pred_prob = top_k_predictions(im)\n",
    "# for label, prob in zip(pred_label, pred_prob):\n",
    "#     print(f'{label}: {prob:0.1%}')"
   ]
  },
  {
   "cell_type": "code",
   "execution_count": null,
   "id": "f06e8c37-a6df-4101-a386-eeec9d0e323b",
   "metadata": {},
   "outputs": [],
   "source": []
  }
 ],
 "metadata": {
  "kernelspec": {
   "display_name": "Python 3 (ipykernel)",
   "language": "python",
   "name": "python3"
  },
  "language_info": {
   "codemirror_mode": {
    "name": "ipython",
    "version": 3
   },
   "file_extension": ".py",
   "mimetype": "text/x-python",
   "name": "python",
   "nbconvert_exporter": "python",
   "pygments_lexer": "ipython3",
   "version": "3.10.9"
  }
 },
 "nbformat": 4,
 "nbformat_minor": 5
}
